{
 "cells": [
  {
   "cell_type": "markdown",
   "id": "4caafec3",
   "metadata": {},
   "source": [
    "# Loaded dice \n",
    "\n",
    "Welcome to the second assignment in the course Probability and Statistics for Machine Learning and Data Science! In this quiz-like assignment you will test your intuition about the concepts covered in the lectures by taking the example with the dice to the next level. \n",
    "\n",
    "**This assignment can be completed with just pencil and paper, or even your intuition about probability, but in many questions using the skills you're developing as a programmer may help**. "
   ]
  },
  {
   "cell_type": "markdown",
   "id": "3bff9c20",
   "metadata": {},
   "source": [
    "## 1 - Introduction\n",
    "\n",
    "You will be presented with 11 questions regarding a several dice games. Sometimes the dice is loaded, sometimes it is not. You will have clear instructions for each exercise.\n",
    "\n",
    "### 1.1 How to go through the assignment\n",
    "\n",
    "In each exercise you there will be a question about throwing some dice that may or may not be loaded. You will have to answer questions about the results of each scenario, such as calculating the expected value of the dice throw or selecting the graph that best represents the distribution of outcomes. \n",
    "\n",
    "In any case, **you will be able to solve the exercise with one of the following methods:**\n",
    "\n",
    "- **By hand:** You may make your calculations by hand, using the theory you have developed in the lectures.\n",
    "- **Using Python:** You may use the empty block of code provided to make computations and simulations, to obtain the result.\n",
    "\n",
    "After each exercise you will save your solution by running a special code cell and adding your answer. The cells contain a single line of code in the format `utils.exercise_1()` which will launch the interface in which you can save your answer. **You will save your responses to each exercise as you go, but you won't submit all your responses for grading until you submit this assignment at the end.**\n",
    "\n",
    "Let's go over an example! Before, let's import the necessary libraries."
   ]
  },
  {
   "cell_type": "markdown",
   "id": "3d256624",
   "metadata": {},
   "source": [
    "## 2 - Importing the libraries"
   ]
  },
  {
   "cell_type": "code",
   "execution_count": 1,
   "id": "da0fcf2f",
   "metadata": {},
   "outputs": [],
   "source": [
    "import numpy as np\n",
    "import pandas as pd\n",
    "import seaborn as sns\n",
    "import matplotlib.pyplot as plt\n",
    "import utils"
   ]
  },
  {
   "cell_type": "markdown",
   "id": "e1637bc9",
   "metadata": {},
   "source": [
    "## 3 - A worked example on how to complete this assignment.\n",
    "\n",
    "Now let's go over one example question, so you understand how to go through the assignment.\n",
    "\n",
    "### 3.1 Example question\n",
    "\n",
    "Question: Given a 6-sided fair dice, you throw it two times and save the result. What is the probability that the sum of your two throws is greater than 5? (Give your result with 1 decimal place).\n",
    "\n",
    "After the question, you will see the following block of code."
   ]
  },
  {
   "cell_type": "code",
   "execution_count": 8,
   "id": "c789233e",
   "metadata": {},
   "outputs": [],
   "source": [
    "# You can use this cell for your calculations (not graded)\n"
   ]
  },
  {
   "cell_type": "markdown",
   "id": "02528065",
   "metadata": {},
   "source": [
    "You may use it as you wish to solve the exercise. Or you can just ignore it and use pencil and pen to solve. It is up to you! **You will only save your final answer**. \n",
    "\n",
    "### 3.2 Solving using simulations in Python\n",
    "\n",
    "Let's solve this question in both ways. First, using Python. You may check the ungraded lab Dice Simulations that appears right before this assignment to help you simulate dice throws. Remember that, to get a good approximation, you need to simulate it a lot of times! You will see why this is true in the following weeks, but this is quite intuitive."
   ]
  },
  {
   "cell_type": "code",
   "execution_count": 2,
   "id": "309a3457",
   "metadata": {},
   "outputs": [
    {
     "name": "stdout",
     "output_type": "stream",
     "text": [
      "The probability by this simulation is: 0.719\n"
     ]
    }
   ],
   "source": [
    "# You can use this cell for your calculations (not graded)\n",
    "\n",
    "# This list represents each dice side\n",
    "dice = [1,2,3,4,5,6]\n",
    "\n",
    "# The idea is to randomly choose one element from this list three times and sum them. \n",
    "# Each time we choose, it is as if we had thrown a dice and the side is the chosen number.\n",
    "# This list will store the sum for each iteration. The idea is to repeat this experiment several times.\n",
    "sum_results = []\n",
    "\n",
    "number_iterations = 1000\n",
    "\n",
    "# Setting a random seed just for reproducibility\n",
    "np.random.seed(42)\n",
    "# It will play this game number_iteration times\n",
    "for i in range(number_iterations):\n",
    "    # Throw the first dice\n",
    "    throw_1 = np.random.choice(dice)\n",
    "    # Throw the second dice\n",
    "    throw_2 = np.random.choice(dice)\n",
    "    # Sum the result\n",
    "    sum_throw = throw_1 + throw_2\n",
    "    # Append to the sum_result list\n",
    "    sum_results.append(sum_throw)\n",
    "\n",
    "# After recording all the sums, the actual probability will be very close to the proportion among every sum greater than 10 in the sum_results list.\n",
    "greater_5_count = 0\n",
    "\n",
    "for x in sum_results:\n",
    "    if x > 5:\n",
    "        greater_5_count += 1\n",
    "\n",
    "probability = greater_5_count/len(sum_results)    \n",
    "print(f\"The probability by this simulation is: {probability}\")"
   ]
  },
  {
   "cell_type": "markdown",
   "id": "37524317",
   "metadata": {},
   "source": [
    "So the result you would get, rounding in to decimal place, would be 0.7! Let's solve it \"by hand\".\n",
    "\n",
    "### 3.3 Solving using the theory\n",
    "\n",
    "When throwing two dice, there are $36$ possible outcomes:\n",
    "\n",
    "$$(1,1), (1,2), \\ldots, (6,6)$$\n",
    "\n",
    "You must count how many of them lead to a sum greater than 5. They are:\n",
    "\n",
    "* If the first throw is $1$, there are $2$ possibilities for the second throw: 5 or 6.\n",
    "* If the first throw is $2$, there are $3$ possibilities for the second throw: 4, 5 or 6.\n",
    "* If the first throw is $3$, there are $4$ possibilities for the second throw: 3, 4, 5 or 6.\n",
    "* If the first throw is $4$, there are $5$ possibilities for the second throw: 2, 3, 4, 5 or 6.\n",
    "* If the first throw is $5$, there are $6$ possibilities for the second throw: 1, 2, 3, 4, 5 or 6.\n",
    "* If the first throw is $6$, there are $6$ possibilities for the second throw: 1, 2, 3, 4, 5 or 6.\n",
    "\n",
    "So, in total there are $2 + 3 + 4 + 5 + 6 + 6 = 26$, possibilities that sum greater than 5.\n",
    "\n",
    "The probability is then $\\frac{26}{36} \\approx 0.72$. Rounding it to 1 decimal place, the result is also 0.7!\n"
   ]
  },
  {
   "cell_type": "markdown",
   "id": "29b9f3ed",
   "metadata": {},
   "source": [
    "### 3.4 Saving your answer\n",
    "\n",
    "Once you get your answer in hands, it is time to save it. Run the next code below to see what it will look like. You just add your answer as requested and click on \"Save your answer!\""
   ]
  },
  {
   "cell_type": "code",
   "execution_count": 3,
   "id": "38539358",
   "metadata": {},
   "outputs": [
    {
     "data": {
      "application/vnd.jupyter.widget-view+json": {
       "model_id": "a7d4521d0d794f24b192ccf824c49d65",
       "version_major": 2,
       "version_minor": 0
      },
      "text/plain": [
       "FloatText(value=0.0, description='Probability:')"
      ]
     },
     "metadata": {},
     "output_type": "display_data"
    },
    {
     "data": {
      "application/vnd.jupyter.widget-view+json": {
       "model_id": "36af605fba7941d285cea2e89ffa4e0c",
       "version_major": 2,
       "version_minor": 0
      },
      "text/plain": [
       "Button(button_style='success', description='Save your answer!', style=ButtonStyle())"
      ]
     },
     "metadata": {},
     "output_type": "display_data"
    },
    {
     "data": {
      "application/vnd.jupyter.widget-view+json": {
       "model_id": "6d7d63714ede439ea45ec8158f1dfce3",
       "version_major": 2,
       "version_minor": 0
      },
      "text/plain": [
       "Output()"
      ]
     },
     "metadata": {},
     "output_type": "display_data"
    }
   ],
   "source": [
    "utils.exercise_example()"
   ]
  },
  {
   "cell_type": "markdown",
   "id": "73d4776c",
   "metadata": {},
   "source": [
    "And that's it! Once you save one question, you can go to the next one. If you want to change your solution, just run the code again and input the new solution, it will overwrite the previous one. At the end of the assignment, you will be able to check if you have forgotten to save any question. \n",
    "\n",
    "Once you finish the assignment, you may submit it as you usually would. Your most recently save answers to each exercise will then be graded."
   ]
  },
  {
   "cell_type": "markdown",
   "id": "4546a127",
   "metadata": {},
   "source": [
    "## 4 - Some concept clarifications 🎲🎲🎲\n",
    "\n",
    "During this assignment you will be presented with various scenarios that involve dice. Usually dice can have different numbers of sides and can be either fair or loaded.\n",
    "\n",
    "- A fair dice has equal probability of landing on every side.\n",
    "- A loaded dice does not have equal probability of landing on every side. Usually one (or more) sides have a greater probability of showing up than the rest.\n",
    "\n",
    "Alright, that's all your need to know to complete this assignment. Time to start rolling some dice!"
   ]
  },
  {
   "cell_type": "markdown",
   "id": "c8f09f02",
   "metadata": {},
   "source": [
    "## Exercise 1:\n",
    "\n"
   ]
  },
  {
   "cell_type": "markdown",
   "id": "3510c610",
   "metadata": {},
   "source": [
    "Given a 6-sided fair dice (all of the sides have equal probability of showing up), compute the mean and variance for the probability distribution that models said dice. The next figure shows you a visual represenatation of said distribution:\n",
    "\n",
    "<img src=\"./images/fair_dice.png\" style=\"height: 300px;\"/>\n",
    "\n",
    "**Submission considerations:**\n",
    "- Submit your answers as floating point numbers with three digits after the decimal point\n",
    "- Example: To submit the value of 1/4 enter 0.250"
   ]
  },
  {
   "cell_type": "markdown",
   "id": "5ee9b479",
   "metadata": {},
   "source": [
    "Hints: \n",
    "- You can use [np.random.choice](https://numpy.org/doc/stable/reference/random/generated/numpy.random.choice.html) to simulate a fair dice.\n",
    "- You can use [np.mean](https://numpy.org/doc/stable/reference/generated/numpy.mean.html) and [np.var](https://numpy.org/doc/stable/reference/generated/numpy.var.html) to compute the mean and variance of a numpy array."
   ]
  },
  {
   "cell_type": "code",
   "execution_count": 30,
   "id": "df437e8e",
   "metadata": {},
   "outputs": [
    {
     "name": "stdout",
     "output_type": "stream",
     "text": [
      "Mean: 3.502\n",
      "Variance: 2.8839960000000002\n"
     ]
    }
   ],
   "source": [
    "def compute_mean_and_variance(num_rolls):\n",
    "    \"\"\"\n",
    "    This function computes the mean and variance of the probability distribution of a fair 6-sided dice.\n",
    "\n",
    "    Args:\n",
    "    - num_rolls: The number of times to roll the dice.\n",
    "\n",
    "    Returns:\n",
    "    - A tuple containing the mean and variance of the probability distribution.\n",
    "    \"\"\"\n",
    "    dice_rolls = np.random.randint(1, 7, size=num_rolls)  # Rolling a fair 6-sided dice\n",
    "    mean = np.mean(dice_rolls)\n",
    "    variance = np.var(dice_rolls)\n",
    "    return mean, variance\n",
    "\n",
    "# Simulate rolling the dice 1000 times\n",
    "mean, variance = compute_mean_and_variance(1000)\n",
    "\n",
    "# Print the results\n",
    "print(\"Mean:\", mean)\n",
    "print(\"Variance:\", variance)"
   ]
  },
  {
   "cell_type": "code",
   "execution_count": 48,
   "id": "db9477e7",
   "metadata": {},
   "outputs": [
    {
     "data": {
      "application/vnd.jupyter.widget-view+json": {
       "model_id": "74a50544b6b24cfa9f8c80c718ca6019",
       "version_major": 2,
       "version_minor": 0
      },
      "text/plain": [
       "FloatText(value=0.0, description='Mean:')"
      ]
     },
     "metadata": {},
     "output_type": "display_data"
    },
    {
     "data": {
      "application/vnd.jupyter.widget-view+json": {
       "model_id": "dec2352346504b2ea473a665dce96c95",
       "version_major": 2,
       "version_minor": 0
      },
      "text/plain": [
       "FloatText(value=0.0, description='Variance:')"
      ]
     },
     "metadata": {},
     "output_type": "display_data"
    },
    {
     "data": {
      "application/vnd.jupyter.widget-view+json": {
       "model_id": "bbc45a7761264e9887716bcae22ff9ad",
       "version_major": 2,
       "version_minor": 0
      },
      "text/plain": [
       "Button(button_style='success', description='Save your answer!', style=ButtonStyle())"
      ]
     },
     "metadata": {},
     "output_type": "display_data"
    },
    {
     "data": {
      "application/vnd.jupyter.widget-view+json": {
       "model_id": "ae9662c7591d4c028cbd50b7ca19b3a1",
       "version_major": 2,
       "version_minor": 0
      },
      "text/plain": [
       "Output()"
      ]
     },
     "metadata": {},
     "output_type": "display_data"
    }
   ],
   "source": [
    "# Run this cell to submit your answer\n",
    "utils.exercise_1()"
   ]
  },
  {
   "cell_type": "markdown",
   "id": "d43dcbbd",
   "metadata": {},
   "source": [
    "## Exercise 2:\n",
    "\n",
    "Now suppose you are throwing the dice (same dice as in the previous exercise) two times and recording the sum of each throw. Which of the following `probability mass functions` will be the one you should get?\n",
    "\n",
    "<table><tr>\n",
    "<td> <img src=\"./images/hist_sum_6_side.png\" style=\"height: 300px;\"/> </td>\n",
    "<td> <img src=\"./images/hist_sum_5_side.png\" style=\"height: 300px;\"/> </td>\n",
    "<td> <img src=\"./images/hist_sum_6_uf.png\" style=\"height: 300px;\"/> </td>\n",
    "</tr></table>\n"
   ]
  },
  {
   "cell_type": "markdown",
   "id": "605c58c0",
   "metadata": {},
   "source": [
    "Hints: \n",
    "- You can use numpy arrays to hold the results of many throws.\n",
    "- You can sum to numpy arrays by using the `+` operator like this: `sum = first_throw + second_throw`\n",
    "- To simulate multiple throws of a dice you can use list comprehension or a for loop"
   ]
  },
  {
   "cell_type": "code",
   "execution_count": 6,
   "id": "e9a8b2ed",
   "metadata": {},
   "outputs": [
    {
     "name": "stdout",
     "output_type": "stream",
     "text": [
      "[0.0285 0.0533 0.0792 0.1197 0.1427 0.1644 0.134  0.114  0.0823 0.0534\n",
      " 0.0285 0.    ]\n"
     ]
    }
   ],
   "source": [
    "def pmf_two_dice(n_sims):\n",
    "  \"\"\"\n",
    "  This function computes the PMF of the sum of two dice throws.\n",
    "\n",
    "  Args:\n",
    "    n_sims: The number of simulations to perform.\n",
    "\n",
    "  Returns:\n",
    "    A dictionary containing the PMF.\n",
    "  \"\"\"\n",
    "  dice_throws = np.random.randint(1, 7, size=(n_sims, 2))\n",
    "  dice_sum = np.sum(dice_throws, axis=1)\n",
    "  pmf = np.zeros(12)\n",
    "  for val in dice_sum:\n",
    "    pmf[val - 2] += 1\n",
    "  pmf /= n_sims\n",
    "  return pmf\n",
    "\n",
    "# Simulate 10000 dice throws\n",
    "pmf = pmf_two_dice(10000)\n",
    "\n",
    "# Print the PMF\n",
    "print(pmf)"
   ]
  },
  {
   "cell_type": "code",
   "execution_count": 7,
   "id": "d4d5dcf9",
   "metadata": {},
   "outputs": [
    {
     "data": {
      "application/vnd.jupyter.widget-view+json": {
       "model_id": "7c1a810cae784dc685854274fc7f1682",
       "version_major": 2,
       "version_minor": 0
      },
      "text/plain": [
       "ToggleButtons(description='Your answer:', options=('left', 'center', 'right'), value='left')"
      ]
     },
     "metadata": {},
     "output_type": "display_data"
    },
    {
     "data": {
      "application/vnd.jupyter.widget-view+json": {
       "model_id": "914154f919d84ac08c198cd66940953a",
       "version_major": 2,
       "version_minor": 0
      },
      "text/plain": [
       "Button(button_style='success', description='Save your answer!', style=ButtonStyle())"
      ]
     },
     "metadata": {},
     "output_type": "display_data"
    },
    {
     "data": {
      "application/vnd.jupyter.widget-view+json": {
       "model_id": "16e755579c464ff9b49d6e21c1641c1f",
       "version_major": 2,
       "version_minor": 0
      },
      "text/plain": [
       "Output()"
      ]
     },
     "metadata": {},
     "output_type": "display_data"
    }
   ],
   "source": [
    "# Run this cell to submit your answer\n",
    "utils.exercise_2()"
   ]
  },
  {
   "cell_type": "markdown",
   "id": "adfb889c",
   "metadata": {},
   "source": [
    "## Exercise 3:\n",
    "\n",
    "Given a fair 4-sided dice, you throw it two times and record the sum. The figure on the left shows the probabilities of the dice landing on each side and the right figure the histogram of the sum. Fill out the probabilities of each sum (notice that the distribution of the sum is symetrical so you only need to input 4 values in total):\n",
    "\n",
    "<img src=\"./images/4_side_hists.png\" style=\"height: 300px;\"/>\n",
    "\n",
    "**Submission considerations:**\n",
    "- Submit your answers as floating point numbers with three digits after the decimal point\n",
    "- Example: To submit the value of 1/4 enter 0.250"
   ]
  },
  {
   "cell_type": "code",
   "execution_count": 8,
   "id": "342ca685",
   "metadata": {},
   "outputs": [
    {
     "data": {
      "image/png": "[encoded data removed]",
      "text/plain": [
       "<Figure size 640x480 with 1 Axes>"
      ]
     },
     "metadata": {},
     "output_type": "display_data"
    }
   ],
   "source": [
    "def pmf_two_dice(sides):\n",
    "  \"\"\"\n",
    "  This function computes the PMF of the sum of two dice throws.\n",
    "\n",
    "  Args:\n",
    "    sides: The number of sides on each die.\n",
    "\n",
    "  Returns:\n",
    "    A dictionary containing the PMF.\n",
    "  \"\"\"\n",
    "  dice_throws = np.random.randint(1, sides + 1, size=(10000, 2))\n",
    "  dice_sum = np.sum(dice_throws, axis=1)\n",
    "  pmf = np.zeros(sides * 2)\n",
    "  for val in dice_sum:\n",
    "    pmf[val - 1] += 1\n",
    "  pmf /= 10000\n",
    "  return pmf\n",
    "\n",
    "# Simulate 10000 dice throws\n",
    "sides = 4\n",
    "pmf = pmf_two_dice(sides)\n",
    "\n",
    "# Create a bar chart of the PMF\n",
    "plt.bar(range(1, sides * 2 + 1), pmf)\n",
    "plt.xlabel(\"Sum of dice throws\")\n",
    "plt.ylabel(\"Probability\")\n",
    "plt.title(\"PMF of the sum of two dice throws (\" + str(sides) + \"-sided dice)\")\n",
    "plt.xticks(range(1, sides * 2 + 1))\n",
    "plt.show()"
   ]
  },
  {
   "cell_type": "code",
   "execution_count": 9,
   "id": "e0a24beb",
   "metadata": {},
   "outputs": [
    {
     "data": {
      "application/vnd.jupyter.widget-view+json": {
       "model_id": "b7cb8f9e324f4a8c9c906cf66d7a8860",
       "version_major": 2,
       "version_minor": 0
      },
      "text/plain": [
       "FloatText(value=0.0, description='P for sum=2|8', style=DescriptionStyle(description_width='initial'))"
      ]
     },
     "metadata": {},
     "output_type": "display_data"
    },
    {
     "data": {
      "application/vnd.jupyter.widget-view+json": {
       "model_id": "291d1f53c5a6433aa8387dbd89b39f58",
       "version_major": 2,
       "version_minor": 0
      },
      "text/plain": [
       "FloatText(value=0.0, description='P for sum=3|7:', style=DescriptionStyle(description_width='initial'))"
      ]
     },
     "metadata": {},
     "output_type": "display_data"
    },
    {
     "data": {
      "application/vnd.jupyter.widget-view+json": {
       "model_id": "8990ecfc49cc4343bc0a8414820c9979",
       "version_major": 2,
       "version_minor": 0
      },
      "text/plain": [
       "FloatText(value=0.0, description='P for sum=4|6:', style=DescriptionStyle(description_width='initial'))"
      ]
     },
     "metadata": {},
     "output_type": "display_data"
    },
    {
     "data": {
      "application/vnd.jupyter.widget-view+json": {
       "model_id": "8d2243a88996432d9509807b0510f92a",
       "version_major": 2,
       "version_minor": 0
      },
      "text/plain": [
       "FloatText(value=0.0, description='P for sum=5:', style=DescriptionStyle(description_width='initial'))"
      ]
     },
     "metadata": {},
     "output_type": "display_data"
    },
    {
     "data": {
      "application/vnd.jupyter.widget-view+json": {
       "model_id": "00d1f8768f4c44be81c3073e32c63777",
       "version_major": 2,
       "version_minor": 0
      },
      "text/plain": [
       "Button(button_style='success', description='Save your answer!', style=ButtonStyle())"
      ]
     },
     "metadata": {},
     "output_type": "display_data"
    },
    {
     "data": {
      "application/vnd.jupyter.widget-view+json": {
       "model_id": "2e815512864543078d574a8f3a871e3d",
       "version_major": 2,
       "version_minor": 0
      },
      "text/plain": [
       "Output()"
      ]
     },
     "metadata": {},
     "output_type": "display_data"
    }
   ],
   "source": [
    "# Run this cell to submit your answer\n",
    "utils.exercise_3()"
   ]
  },
  {
   "cell_type": "markdown",
   "id": "108837bd",
   "metadata": {},
   "source": [
    "## Exercise 4:\n",
    "\n",
    "Using the same scenario as in the previous exercise. Compute the mean and variance of the sum of the two throws  and the covariance between the first and the second throw:\n",
    "\n",
    "<img src=\"./images/4_sided_hist_no_prob.png\" style=\"height: 300px;\"/>\n",
    "\n",
    "\n",
    "Hints:\n",
    "- You can use [np.cov](https://numpy.org/doc/stable/reference/generated/numpy.cov.html) to compute the covariance of two numpy arrays (this may not be needed for this particular exercise)."
   ]
  },
  {
   "cell_type": "code",
   "execution_count": 59,
   "id": "f4eadc3c",
   "metadata": {},
   "outputs": [
    {
     "name": "stdout",
     "output_type": "stream",
     "text": [
      "Mean of sum of dice: 7.072\n",
      "Variance of sum of dice: 5.462278278278279\n",
      "Covariance of dice rolls: -0.03933533533533508\n"
     ]
    }
   ],
   "source": [
    "def compute_mean_variance_covariance(num_rolls):\n",
    "    \"\"\"\n",
    "    This function computes the mean, variance, and covariance of the sum of two dice rolls.\n",
    "\n",
    "    Args:\n",
    "      num_rolls: The number of times to roll the dice.\n",
    "\n",
    "    Returns:\n",
    "      A tuple containing the mean, variance, and covariance.\n",
    "    \"\"\"\n",
    "    dice_rolls = np.random.randint(1, 7, size=(num_rolls, 2))  # Rolling a fair 6-sided dice\n",
    "    sum_of_dice = np.sum(dice_rolls, axis=1)\n",
    "    mean_sum = np.mean(sum_of_dice)\n",
    "    variance_sum = np.var(sum_of_dice, ddof=1)  # Use ddof=1 for unbiased variance estimation\n",
    "    covariance = np.cov(dice_rolls[:, 0], dice_rolls[:, 1])[0, 1]  # Covariance between two dice rolls\n",
    "    return mean_sum, variance_sum, covariance\n",
    "\n",
    "# Simulate rolling the dice 1000 times\n",
    "mean, variance, covariance = compute_mean_variance_covariance(1000)\n",
    "\n",
    "# Print the results\n",
    "print(\"Mean of sum of dice:\", mean)\n",
    "print(\"Variance of sum of dice:\", variance)\n",
    "print(\"Covariance of dice rolls:\", covariance)"
   ]
  },
  {
   "cell_type": "code",
   "execution_count": 68,
   "id": "4e662b9b",
   "metadata": {},
   "outputs": [
    {
     "data": {
      "application/vnd.jupyter.widget-view+json": {
       "model_id": "847ff6194aa74e039657bf3b943827f1",
       "version_major": 2,
       "version_minor": 0
      },
      "text/plain": [
       "FloatText(value=0.0, description='Mean:')"
      ]
     },
     "metadata": {},
     "output_type": "display_data"
    },
    {
     "data": {
      "application/vnd.jupyter.widget-view+json": {
       "model_id": "908a395119e449a48a5519520d40903d",
       "version_major": 2,
       "version_minor": 0
      },
      "text/plain": [
       "FloatText(value=0.0, description='Variance:')"
      ]
     },
     "metadata": {},
     "output_type": "display_data"
    },
    {
     "data": {
      "application/vnd.jupyter.widget-view+json": {
       "model_id": "1df5d4a3c4d24235972c0d347cd6fea5",
       "version_major": 2,
       "version_minor": 0
      },
      "text/plain": [
       "FloatText(value=0.0, description='Covariance:')"
      ]
     },
     "metadata": {},
     "output_type": "display_data"
    },
    {
     "data": {
      "application/vnd.jupyter.widget-view+json": {
       "model_id": "8c642148510841e181546ebfe4347c56",
       "version_major": 2,
       "version_minor": 0
      },
      "text/plain": [
       "Button(button_style='success', description='Save your answer!', style=ButtonStyle())"
      ]
     },
     "metadata": {},
     "output_type": "display_data"
    },
    {
     "data": {
      "application/vnd.jupyter.widget-view+json": {
       "model_id": "78490b42f473455a92a25a9cee895106",
       "version_major": 2,
       "version_minor": 0
      },
      "text/plain": [
       "Output()"
      ]
     },
     "metadata": {},
     "output_type": "display_data"
    }
   ],
   "source": [
    "# Run this cell to submit your answer\n",
    "utils.exercise_4()"
   ]
  },
  {
   "cell_type": "markdown",
   "id": "714e099b",
   "metadata": {},
   "source": [
    "## Exercise 5:\n",
    "\n",
    "\n",
    "Now suppose you are have a loaded 4-sided dice (it is loaded so that it lands twice as often on side 2 compared to the other sides): \n",
    "\n",
    "\n",
    "<img src=\"./images/4_side_uf.png\" style=\"height: 300px;\"/>\n",
    "\n",
    "You are throwing it two times and recording the sum of each throw. Which of the following `probability mass functions` will be the one you should get?\n",
    "\n",
    "<table><tr>\n",
    "<td> <img src=\"./images/hist_sum_4_4l.png\" style=\"height: 300px;\"/> </td>\n",
    "<td> <img src=\"./images/hist_sum_4_3l.png\" style=\"height: 300px;\"/> </td>\n",
    "<td> <img src=\"./images/hist_sum_4_uf.png\" style=\"height: 300px;\"/> </td>\n",
    "</tr></table>"
   ]
  },
  {
   "cell_type": "markdown",
   "id": "ecb27c1b",
   "metadata": {},
   "source": [
    "Hints: \n",
    "- You can use the `p` parameter of [np.random.choice](https://numpy.org/doc/stable/reference/random/generated/numpy.random.choice.html) to simulate a loaded dice."
   ]
  },
  {
   "cell_type": "code",
   "execution_count": null,
   "id": "a35573ec",
   "metadata": {},
   "outputs": [],
   "source": [
    "def pmf_two_dice(p, sides):\n",
    "    \"\"\"\n",
    "    This function computes the PMF of the sum of two dice throws for a loaded dice.\n",
    "\n",
    "    Args:\n",
    "      p: The probability of landing on side 2.\n",
    "      sides: The number of sides on each die.\n",
    "\n",
    "    Returns:\n",
    "      A dictionary containing the PMF.\n",
    "    \"\"\"\n",
    "    # Create a custom probability distribution for the loaded dice (repeated for each die)\n",
    "    p_custom = np.repeat([p, 1 - p], sides)  # Repeat probabilities for each side\n",
    "    dice_throws = np.random.choice(sides, size=(10000, 2), p=p_custom)\n",
    "    dice_sum = np.sum(dice_throws, axis=1)\n",
    "    pmf = np.zeros(sides * 2)\n",
    "    for val in dice_sum:\n",
    "        pmf[val - 2] += 1  # Adjust index to start from 0\n",
    "    pmf /= 10000\n",
    "    return pmf.tolist()  # Convert to list for better readability\n",
    "\n",
    "# Simulate 10000 dice throws\n",
    "p = 0.2  # Probability of landing on side 2\n",
    "sides = 4\n",
    "pmf = pmf_two_dice(p, sides)\n",
    "\n",
    "# Print the PMF\n",
    "print(pmf)\n"
   ]
  },
  {
   "cell_type": "code",
   "execution_count": 61,
   "id": "3104e647",
   "metadata": {},
   "outputs": [
    {
     "data": {
      "application/vnd.jupyter.widget-view+json": {
       "model_id": "136b045245f24f5491ac65919348204a",
       "version_major": 2,
       "version_minor": 0
      },
      "text/plain": [
       "ToggleButtons(description='Your answer:', options=('left', 'center', 'right'), value='left')"
      ]
     },
     "metadata": {},
     "output_type": "display_data"
    },
    {
     "data": {
      "application/vnd.jupyter.widget-view+json": {
       "model_id": "4f72e471246f4cc49678929add559283",
       "version_major": 2,
       "version_minor": 0
      },
      "text/plain": [
       "Button(button_style='success', description='Save your answer!', style=ButtonStyle())"
      ]
     },
     "metadata": {},
     "output_type": "display_data"
    },
    {
     "data": {
      "application/vnd.jupyter.widget-view+json": {
       "model_id": "16c22430eaf54a999273b21de0336ce4",
       "version_major": 2,
       "version_minor": 0
      },
      "text/plain": [
       "Output()"
      ]
     },
     "metadata": {},
     "output_type": "display_data"
    }
   ],
   "source": [
    "# Run this cell to submit your answer\n",
    "utils.exercise_5()"
   ]
  },
  {
   "cell_type": "markdown",
   "id": "0d0f3429",
   "metadata": {},
   "source": [
    "## Exercise 6:\n",
    "\n",
    "You have a 6-sided dice that is loaded so that it lands twice as often on side 3 compared to the other sides:\n",
    "\n",
    "<img src=\"./images/loaded_6_side.png\" style=\"height: 300px;\"/>\n",
    "\n",
    "You record the sum of throwing it twice. What is the highest value (of the sum) that will yield a cumulative probability lower or equal to 0.5?\n",
    "\n",
    "<img src=\"./images/loaded_6_cdf.png\" style=\"height: 300px;\"/>\n",
    "\n",
    "Hints:\n",
    "- The probability of side 3 is equal to $\\frac{2}{7}$"
   ]
  },
  {
   "cell_type": "code",
   "execution_count": 35,
   "id": "10feaaa8",
   "metadata": {},
   "outputs": [
    {
     "data": {
      "image/png": "[encoded data removed]",
      "text/plain": [
       "<Figure size 640x480 with 1 Axes>"
      ]
     },
     "metadata": {},
     "output_type": "display_data"
    }
   ],
   "source": [
    "def cdf_two_dice(p, sides):\n",
    "    \"\"\"\n",
    "    This function computes the CDF of the sum of two dice throws for a loaded dice.\n",
    "\n",
    "    Args:\n",
    "      p: The probability of landing on side 3.\n",
    "      sides: The number of sides on each die.\n",
    "\n",
    "    Returns:\n",
    "      A list containing the CDF.\n",
    "    \"\"\"\n",
    "    # Create a custom probability distribution for the loaded dice\n",
    "    p_custom = np.array([p, p, p, 1 - 3 * p, 1 - 3 * p, 1 - 3 * p])\n",
    "    dice_throws = np.random.choice(np.arange(1, sides + 1), size=(10000, 2), p=p_custom)\n",
    "    dice_sum = np.sum(dice_throws, axis=1)\n",
    "    cdf = np.zeros(sides * 2)\n",
    "    for i in range(1, sides * 2 + 1):\n",
    "        cdf[i - 1] = np.sum(dice_sum <= i) / 10000\n",
    "    return cdf, sides * 2  # Return the CDF and the maximum possible sum\n",
    "\n",
    "# Simulate 10000 dice throws\n",
    "p = 1/3  # Probability of landing on side 3 (twice as often as other sides)\n",
    "sides = 6\n",
    "cdf, max_sum = cdf_two_dice(p, sides)\n",
    "\n",
    "# Plot the CDF\n",
    "plt.plot(range(1, max_sum + 1), cdf)\n",
    "plt.xlabel(\"Sum of dice throws\")\n",
    "plt.ylabel(\"CDF\")\n",
    "plt.title(\"CDF of the sum of two dice throws (loaded dice)\")\n",
    "plt.xticks(range(1, max_sum + 1))\n",
    "plt.grid(True)\n",
    "plt.show()"
   ]
  },
  {
   "cell_type": "code",
   "execution_count": 53,
   "id": "963e5763",
   "metadata": {},
   "outputs": [
    {
     "data": {
      "application/vnd.jupyter.widget-view+json": {
       "model_id": "3592bf45317748c48f7200269b698d5d",
       "version_major": 2,
       "version_minor": 0
      },
      "text/plain": [
       "IntSlider(value=2, continuous_update=False, description='Sum:', max=12, min=2)"
      ]
     },
     "metadata": {},
     "output_type": "display_data"
    },
    {
     "data": {
      "application/vnd.jupyter.widget-view+json": {
       "model_id": "1540e8089dff4216a3c386902470f7a3",
       "version_major": 2,
       "version_minor": 0
      },
      "text/plain": [
       "Button(button_style='success', description='Save your answer!', style=ButtonStyle())"
      ]
     },
     "metadata": {},
     "output_type": "display_data"
    },
    {
     "data": {
      "application/vnd.jupyter.widget-view+json": {
       "model_id": "199cfede8b4042f1825b53e5a45ce45b",
       "version_major": 2,
       "version_minor": 0
      },
      "text/plain": [
       "Output()"
      ]
     },
     "metadata": {},
     "output_type": "display_data"
    }
   ],
   "source": [
    "# Run this cell to submit your answer\n",
    "utils.exercise_6()"
   ]
  },
  {
   "cell_type": "markdown",
   "id": "f6684426",
   "metadata": {},
   "source": [
    "## Exercise 7:\n",
    "\n",
    "Given a 6-sided fair dice you try a new game. You only throw the dice a second time if the result of the first throw is **lower** or equal to 3. Which of the following `probability mass functions` will be the one you should get given this new constraint?\n",
    "\n",
    "<table><tr>\n",
    "<td> <img src=\"./images/6_sided_cond_green.png\" style=\"height: 250px;\"/> </td>\n",
    "<td> <img src=\"./images/6_sided_cond_blue.png\" style=\"height: 250px;\"/> </td>\n",
    "<td> <img src=\"./images/6_sided_cond_red.png\" style=\"height: 250px;\"/> </td>\n",
    "<td> <img src=\"./images/6_sided_cond_brown.png\" style=\"height: 250px;\"/> </td>\n",
    "\n",
    "</tr></table>\n",
    "\n",
    "Hints:\n",
    "- You can simulate the second throws as a numpy array and then make the values that met a certain criteria equal to 0 by using [np.where](https://numpy.org/doc/stable/reference/generated/numpy.where.html)"
   ]
  },
  {
   "cell_type": "code",
   "execution_count": 36,
   "id": "9e64d178",
   "metadata": {},
   "outputs": [
    {
     "name": "stdout",
     "output_type": "stream",
     "text": [
      "[0.1139, 0.2186, 0.3336, 0.2259, 0.108, 0.0, 0.0, 0.0, 0.0, 0.0, 0.0, 0.0]\n"
     ]
    }
   ],
   "source": [
    "def pmf_two_dice(p, sides):\n",
    "    \"\"\"\n",
    "    This function computes the PMF of the sum of two dice throws for a loaded dice.\n",
    "\n",
    "    Args:\n",
    "      p: The probability of landing on side 3.\n",
    "      sides: The number of sides on each die.\n",
    "\n",
    "    Returns:\n",
    "      A dictionary containing the PMF.\n",
    "    \"\"\"\n",
    "    # Create a custom probability distribution for the loaded dice\n",
    "    p_custom = np.array([p, p, p, 1 - 3 * p, 1 - 3 * p, 1 - 3 * p])\n",
    "    dice_throws = np.random.choice(np.arange(1, sides + 1), size=(10000, 2), p=p_custom)\n",
    "    dice_sum = np.sum(dice_throws, axis=1)\n",
    "    pmf = np.zeros(sides * 2)\n",
    "    for val in dice_sum:\n",
    "        pmf[val - 2] += 1  # Adjust index to start from 0\n",
    "    pmf /= 10000\n",
    "    return pmf.tolist()  # Convert to list for better readability\n",
    "\n",
    "# Simulate 10000 dice throws\n",
    "p = 1/3  # Probability of landing on side 3 (twice as often as other sides)\n",
    "sides = 6\n",
    "pmf = pmf_two_dice(p, sides)\n",
    "\n",
    "# Print the PMF\n",
    "print(pmf)"
   ]
  },
  {
   "cell_type": "code",
   "execution_count": 54,
   "id": "82a4db40",
   "metadata": {},
   "outputs": [
    {
     "data": {
      "application/vnd.jupyter.widget-view+json": {
       "model_id": "a11c125dff9044a084ce3a7168293e15",
       "version_major": 2,
       "version_minor": 0
      },
      "text/plain": [
       "ToggleButtons(description='Your answer:', options=('left-most', 'left-center', 'right-center', 'right-most'), …"
      ]
     },
     "metadata": {},
     "output_type": "display_data"
    },
    {
     "data": {
      "application/vnd.jupyter.widget-view+json": {
       "model_id": "8b7a89a0bd0947d8bb72267991d152a5",
       "version_major": 2,
       "version_minor": 0
      },
      "text/plain": [
       "Button(button_style='success', description='Save your answer!', style=ButtonStyle())"
      ]
     },
     "metadata": {},
     "output_type": "display_data"
    },
    {
     "data": {
      "application/vnd.jupyter.widget-view+json": {
       "model_id": "df74d64e5fde44c791aeaf2de3314040",
       "version_major": 2,
       "version_minor": 0
      },
      "text/plain": [
       "Output()"
      ]
     },
     "metadata": {},
     "output_type": "display_data"
    }
   ],
   "source": [
    "# Run this cell to submit your answer\n",
    "utils.exercise_7()"
   ]
  },
  {
   "cell_type": "markdown",
   "id": "ba973eaf",
   "metadata": {},
   "source": [
    "## Exercise 8:\n",
    "\n",
    "Given the same scenario as in the previous exercise but with the twist that you only throw the dice a second time if the result of the first throw is **greater** or equal to 3. Which of the following `probability mass functions` will be the one you should get given this new constraint?\n",
    "\n",
    "<table><tr>\n",
    "<td> <img src=\"./images/6_sided_cond_green2.png\" style=\"height: 250px;\"/> </td>\n",
    "<td> <img src=\"./images/6_sided_cond_blue2.png\" style=\"height: 250px;\"/> </td>\n",
    "<td> <img src=\"./images/6_sided_cond_red2.png\" style=\"height: 250px;\"/> </td>\n",
    "<td> <img src=\"./images/6_sided_cond_brown2.png\" style=\"height: 250px;\"/> </td>\n",
    "\n",
    "</tr></table>\n"
   ]
  },
  {
   "cell_type": "code",
   "execution_count": 37,
   "id": "4d25300f",
   "metadata": {},
   "outputs": [
    {
     "name": "stdout",
     "output_type": "stream",
     "text": [
      "[0.1149, 0.2266, 0.3313, 0.2163, 0.1109, 0.0, 0.0, 0.0, 0.0, 0.0, 0.0, 0.0]\n"
     ]
    }
   ],
   "source": [
    "def pmf_two_dice(p, sides):\n",
    "    \"\"\"\n",
    "    This function computes the PMF of the sum of two dice throws for a loaded dice.\n",
    "\n",
    "    Args:\n",
    "      p: The probability of landing on side 3.\n",
    "      sides: The number of sides on each die.\n",
    "\n",
    "    Returns:\n",
    "      A dictionary containing the PMF.\n",
    "    \"\"\"\n",
    "    # Create a custom probability distribution for the loaded dice\n",
    "    p_custom = np.array([p, p, p, 1 - 3 * p, 1 - 3 * p, 1 - 3 * p])\n",
    "    dice_throws = np.random.choice(np.arange(1, sides + 1), size=(10000, 2), p=p_custom)\n",
    "    dice_sum = np.sum(dice_throws, axis=1)\n",
    "    pmf = np.zeros(sides * 2)\n",
    "    for val in dice_sum:\n",
    "        pmf[val - 2] += 1  # Adjust index to start from 0\n",
    "    pmf /= 10000\n",
    "    return pmf.tolist()  # Convert to list for better readability\n",
    "\n",
    "# Simulate 10000 dice throws\n",
    "p = 1/3  # Probability of landing on side 3 (twice as often as other sides)\n",
    "sides = 6\n",
    "pmf = pmf_two_dice(p, sides)\n",
    "\n",
    "# Print the PMF\n",
    "print(pmf)"
   ]
  },
  {
   "cell_type": "code",
   "execution_count": 62,
   "id": "33bb9fd2",
   "metadata": {},
   "outputs": [
    {
     "data": {
      "application/vnd.jupyter.widget-view+json": {
       "model_id": "ac769dabc1c5480ca755ce54eca9e874",
       "version_major": 2,
       "version_minor": 0
      },
      "text/plain": [
       "ToggleButtons(description='Your answer:', options=('left-most', 'left-center', 'right-center', 'right-most'), …"
      ]
     },
     "metadata": {},
     "output_type": "display_data"
    },
    {
     "data": {
      "application/vnd.jupyter.widget-view+json": {
       "model_id": "4f47256b74aa456a88275570393a5c74",
       "version_major": 2,
       "version_minor": 0
      },
      "text/plain": [
       "Button(button_style='success', description='Save your answer!', style=ButtonStyle())"
      ]
     },
     "metadata": {},
     "output_type": "display_data"
    },
    {
     "data": {
      "application/vnd.jupyter.widget-view+json": {
       "model_id": "d9f3973c0dd242e2bed99189a1f0d333",
       "version_major": 2,
       "version_minor": 0
      },
      "text/plain": [
       "Output()"
      ]
     },
     "metadata": {},
     "output_type": "display_data"
    }
   ],
   "source": [
    "# Run this cell to submit your answer\n",
    "utils.exercise_8()"
   ]
  },
  {
   "cell_type": "markdown",
   "id": "017e9b22",
   "metadata": {},
   "source": [
    "## Exercise 9:\n",
    "\n",
    "Given a n-sided fair dice. You throw it twice and record the sum. How does increasing the number of sides `n` of the dice impact the mean and variance of the sum and the covariance of the joint distribution?"
   ]
  },
  {
   "cell_type": "code",
   "execution_count": null,
   "id": "645a9b74",
   "metadata": {},
   "outputs": [],
   "source": [
    "def variance_two_dice(sides):\n",
    "  \"\"\"\n",
    "  This function computes the variance of the sum of two dice throws.\n",
    "\n",
    "  Args:\n",
    "    sides: The number of sides on each die.\n",
    "\n",
    "  Returns:\n",
    "    The variance of the sum of two dice throws.\n",
    "  \"\"\"\n",
    "  # Create an array of all possible dice sums\n",
    "  dice_sum = np.arange(2, sides * 2 + 1)\n",
    "\n",
    "  # Calculate the probability of each sum (assuming fair dice)\n",
    "  p_fair = np.ones(sides * 2) / (sides**2)\n",
    "\n",
    "  # Calculate the mean of the dice sum\n",
    "  mean = np.sum(dice_sum * p_fair)\n",
    "\n",
    "  # Calculate the squared deviations from the mean\n",
    "  squared_dev = (dice_sum - mean)**2\n",
    "\n",
    "  # Calculate the variance\n",
    "  variance = np.sum(squared_dev * p_fair)\n",
    "\n",
    "  return variance\n",
    "\n",
    "# Compute variance for different numbers of sides\n",
    "num_sides = range(2, 13)  # Try from 2 to 12 sides\n",
    "variances = [variance_two_dice(sides) for sides in num_sides]\n",
    "\n",
    "# Print the results\n",
    "print(\"Number of sides\\t Variance\")\n",
    "for i, sides in enumerate(num_sides):\n",
    "  print(f\"{sides}\\t\\t {variances[i]:.4f}\")"
   ]
  },
  {
   "cell_type": "code",
   "execution_count": 49,
   "id": "907412da",
   "metadata": {},
   "outputs": [
    {
     "name": "stdout",
     "output_type": "stream",
     "text": [
      "As the number of sides in the die increases:\n"
     ]
    },
    {
     "data": {
      "application/vnd.jupyter.widget-view+json": {
       "model_id": "419cfbca89e441ad9373afc2cb5635fb",
       "version_major": 2,
       "version_minor": 0
      },
      "text/plain": [
       "ToggleButtons(description='The mean of the sum:', options=('stays the same', 'increases', 'decreases'), value=…"
      ]
     },
     "metadata": {},
     "output_type": "display_data"
    },
    {
     "data": {
      "application/vnd.jupyter.widget-view+json": {
       "model_id": "b8108ed9b2ef4bba816f160299a34b4a",
       "version_major": 2,
       "version_minor": 0
      },
      "text/plain": [
       "ToggleButtons(description='The variance of the sum:', options=('stays the same', 'increases', 'decreases'), va…"
      ]
     },
     "metadata": {},
     "output_type": "display_data"
    },
    {
     "data": {
      "application/vnd.jupyter.widget-view+json": {
       "model_id": "059c03661b5549558932ea6a5bc1927d",
       "version_major": 2,
       "version_minor": 0
      },
      "text/plain": [
       "ToggleButtons(description='The covariance of the joint distribution:', options=('stays the same', 'increases',…"
      ]
     },
     "metadata": {},
     "output_type": "display_data"
    },
    {
     "data": {
      "application/vnd.jupyter.widget-view+json": {
       "model_id": "5e8b6f10849b46e5b276e5e1ea1c8eb6",
       "version_major": 2,
       "version_minor": 0
      },
      "text/plain": [
       "Button(button_style='success', description='Save your answer!', style=ButtonStyle())"
      ]
     },
     "metadata": {},
     "output_type": "display_data"
    },
    {
     "data": {
      "application/vnd.jupyter.widget-view+json": {
       "model_id": "22e748badbd7459ca87a6526c1a467e1",
       "version_major": 2,
       "version_minor": 0
      },
      "text/plain": [
       "Output()"
      ]
     },
     "metadata": {},
     "output_type": "display_data"
    }
   ],
   "source": [
    "# Run this cell to submit your answer\n",
    "utils.exercise_9()"
   ]
  },
  {
   "cell_type": "markdown",
   "id": "fcf9b3ac",
   "metadata": {},
   "source": [
    "## Exercise 10:\n",
    "\n",
    "Given a 6-sided loaded dice. You throw it twice and record the sum. Which of the following statemets is true?"
   ]
  },
  {
   "cell_type": "code",
   "execution_count": 38,
   "id": "008c5858",
   "metadata": {},
   "outputs": [
    {
     "name": "stdout",
     "output_type": "stream",
     "text": [
      "[0.11111111 0.22222222 0.33333333 0.22222222 0.11111111 0.\n",
      " 0.         0.         0.         0.         0.         0.        ]\n"
     ]
    }
   ],
   "source": [
    "def pmf_two_dice(p, sides):\n",
    "    \"\"\"\n",
    "    This function computes the PMF of the sum of two dice throws for a loaded dice.\n",
    "\n",
    "    Args:\n",
    "      p: The probability of landing on side 3.\n",
    "      sides: The number of sides on each die.\n",
    "\n",
    "    Returns:\n",
    "      A dictionary containing the PMF.\n",
    "    \"\"\"\n",
    "    # Create a custom probability distribution for the loaded dice\n",
    "    p_custom = np.array([p, p, p, 1 - 3 * p, 1 - 3 * p, 1 - 3 * p])\n",
    "    pmf = np.zeros(sides * 2)\n",
    "    \n",
    "    for i in range(1, sides + 1):\n",
    "        for j in range(1, sides + 1):\n",
    "            pmf[i + j - 2] += p_custom[i - 1] * p_custom[j - 1]\n",
    "            \n",
    "    return pmf / np.sum(pmf)  # Normalize to get PMF\n",
    "\n",
    "# Simulate 10000 dice throws\n",
    "p = 1/3  # Probability of landing on side 3 (twice as often as other sides)\n",
    "sides = 6\n",
    "pmf = pmf_two_dice(p, sides)\n",
    "\n",
    "# Print the PMF\n",
    "print(pmf)"
   ]
  },
  {
   "cell_type": "code",
   "execution_count": 67,
   "id": "99373567",
   "metadata": {},
   "outputs": [
    {
     "data": {
      "application/vnd.jupyter.widget-view+json": {
       "model_id": "09816c3571ce4be191ed9229a66cd4aa",
       "version_major": 2,
       "version_minor": 0
      },
      "text/plain": [
       "RadioButtons(layout=Layout(width='max-content'), options=('the mean and variance is the same regardless of whi…"
      ]
     },
     "metadata": {},
     "output_type": "display_data"
    },
    {
     "data": {
      "application/vnd.jupyter.widget-view+json": {
       "model_id": "97378ba08d05494a92928e777de52a59",
       "version_major": 2,
       "version_minor": 0
      },
      "text/plain": [
       "Button(button_style='success', description='Save your answer!', style=ButtonStyle())"
      ]
     },
     "metadata": {},
     "output_type": "display_data"
    },
    {
     "data": {
      "application/vnd.jupyter.widget-view+json": {
       "model_id": "5dae391d43da4620bfa5dee04b7bea6b",
       "version_major": 2,
       "version_minor": 0
      },
      "text/plain": [
       "Output()"
      ]
     },
     "metadata": {},
     "output_type": "display_data"
    }
   ],
   "source": [
    "# Run this cell to submit your answer\n",
    "utils.exercise_10()"
   ]
  },
  {
   "cell_type": "markdown",
   "id": "f8a1a8a3",
   "metadata": {},
   "source": [
    "## Exercise 11:\n",
    "\n",
    "Given a n-sided dice (could be fair or not). You throw it twice and record the sum (there is no dependance between the throws). If you are only given the histogram of the sums can you use it to know which are the probabilities of the dice landing on each side?\n",
    "\n",
    "In other words, if you are provided with only the histogram of the sums like this one:\n",
    "<td> <img src=\"./images/hist_sum_6_side.png\" style=\"height: 300px;\"/> </td>\n",
    "\n",
    "Could you use it to know the probabilities of the dice landing on each side? Which will be equivalent to finding this histogram:\n",
    "<img src=\"./images/fair_dice.png\" style=\"height: 300px;\"/>\n"
   ]
  },
  {
   "cell_type": "code",
   "execution_count": 40,
   "id": "b42149cf",
   "metadata": {},
   "outputs": [
    {
     "name": "stdout",
     "output_type": "stream",
     "text": [
      "PMF: [0.11111111 0.22222222 0.33333333 0.22222222 0.11111111 0.\n",
      " 0.         0.         0.         0.         0.         0.        ]\n",
      "Mean: 1.333333333333333\n"
     ]
    }
   ],
   "source": [
    "def pmf_two_dice(p, sides):\n",
    "    \"\"\"\n",
    "    This function computes the PMF of the sum of two dice throws for a loaded dice.\n",
    "\n",
    "    Args:\n",
    "      p: The probability of landing on side 3.\n",
    "      sides: The number of sides on each die.\n",
    "\n",
    "    Returns:\n",
    "      A dictionary containing the PMF.\n",
    "    \"\"\"\n",
    "    # Create a custom probability distribution for the loaded dice\n",
    "    p_custom = np.array([p, p, p, 1 - 3 * p, 1 - 3 * p, 1 - 3 * p])\n",
    "    pmf = np.zeros(sides * 2)\n",
    "    \n",
    "    for i in range(1, sides + 1):\n",
    "        for j in range(1, sides + 1):\n",
    "            pmf[i + j - 2] += p_custom[i - 1] * p_custom[j - 1]\n",
    "            \n",
    "    return pmf / np.sum(pmf)  # Normalize to get PMF\n",
    "\n",
    "def mean_two_dice(p, sides):\n",
    "    \"\"\"\n",
    "    This function computes the mean of the sum of two dice throws for a loaded dice.\n",
    "\n",
    "    Args:\n",
    "      p: The probability of landing on side 3.\n",
    "      sides: The number of sides on each die.\n",
    "\n",
    "    Returns:\n",
    "      The mean of the sum of two dice throws.\n",
    "    \"\"\"\n",
    "    # Create a custom probability distribution for the loaded dice\n",
    "    p_custom = np.array([p, p, p, 1 - 3 * p, 1 - 3 * p, 1 - 3 * p])\n",
    "    \n",
    "    mean = 0\n",
    "    for i in range(1, sides + 1):\n",
    "        for j in range(1, sides + 1):\n",
    "            mean += (i + j) * p * p_custom[i - 1] * p_custom[j - 1]\n",
    "    return mean\n",
    "\n",
    "# Simulate 10000 dice throws\n",
    "p = 1/3  # Probability of landing on side 3 (twice as often as other sides)\n",
    "sides = 6\n",
    "pmf = pmf_two_dice(p, sides)\n",
    "\n",
    "# Calculate the mean\n",
    "mean = mean_two_dice(p, sides)\n",
    "\n",
    "# Print the PMF and mean\n",
    "print(\"PMF:\", pmf)\n",
    "print(\"Mean:\", mean)"
   ]
  },
  {
   "cell_type": "code",
   "execution_count": 66,
   "id": "33a2e4d9",
   "metadata": {},
   "outputs": [
    {
     "data": {
      "application/vnd.jupyter.widget-view+json": {
       "model_id": "469779def963425bbb4943f4f22bff2a",
       "version_major": 2,
       "version_minor": 0
      },
      "text/plain": [
       "RadioButtons(layout=Layout(width='max-content'), options=('yes, but only if one of the sides is loaded', 'no, …"
      ]
     },
     "metadata": {},
     "output_type": "display_data"
    },
    {
     "data": {
      "application/vnd.jupyter.widget-view+json": {
       "model_id": "d0262ef00f774124baff4e5dc30aba3c",
       "version_major": 2,
       "version_minor": 0
      },
      "text/plain": [
       "Button(button_style='success', description='Save your answer!', style=ButtonStyle())"
      ]
     },
     "metadata": {},
     "output_type": "display_data"
    },
    {
     "data": {
      "application/vnd.jupyter.widget-view+json": {
       "model_id": "4f9617217bf34dc491be7d5d3f9622b9",
       "version_major": 2,
       "version_minor": 0
      },
      "text/plain": [
       "Output()"
      ]
     },
     "metadata": {},
     "output_type": "display_data"
    }
   ],
   "source": [
    "# Run this cell to submit your answer\n",
    "utils.exercise_11()"
   ]
  },
  {
   "cell_type": "markdown",
   "id": "1635ca7c",
   "metadata": {},
   "source": [
    "## Before Submitting Your Assignment\n",
    "\n",
    "Run the next cell to check that you have answered all of the exercises"
   ]
  },
  {
   "cell_type": "code",
   "execution_count": 69,
   "id": "c6822278",
   "metadata": {},
   "outputs": [
    {
     "name": "stdout",
     "output_type": "stream",
     "text": [
      "All answers saved, you can submit the assignment for grading!\n"
     ]
    }
   ],
   "source": [
    "utils.check_submissions()"
   ]
  },
  {
   "cell_type": "markdown",
   "id": "5286008f",
   "metadata": {},
   "source": [
    "**Congratulations on finishing this assignment!**\n",
    "\n",
    "During this assignment you tested your knowledge on probability distributions, descriptive statistics and visual interpretation of these concepts. You had the choice to compute everything analytically or create simulations to assist you get the right answer. You probably also realized that some exercises could be answered without any computations just by looking at certain hidden queues that the visualizations revealed.\n",
    "\n",
    "**Keep up the good work!**\n"
   ]
  }
 ],
 "metadata": {
  "kernelspec": {
   "display_name": "Python 3 (ipykernel)",
   "language": "python",
   "name": "python3"
  },
  "language_info": {
   "codemirror_mode": {
    "name": "ipython",
    "version": 3
   },
   "file_extension": ".py",
   "mimetype": "text/x-python",
   "name": "python",
   "nbconvert_exporter": "python",
   "pygments_lexer": "ipython3",
   "version": "3.10.11"
  }
 },
 "nbformat": 4,
 "nbformat_minor": 5
}
